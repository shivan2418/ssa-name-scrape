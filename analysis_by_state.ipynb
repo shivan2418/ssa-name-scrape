{
 "cells": [
  {
   "cell_type": "code",
   "execution_count": 169,
   "id": "initial_id",
   "metadata": {
    "collapsed": true,
    "ExecuteTime": {
     "end_time": "2024-02-04T20:07:38.971677165Z",
     "start_time": "2024-02-04T20:07:38.966758459Z"
    }
   },
   "outputs": [],
   "source": [
    "import pandas as pd\n",
    "import us\n",
    "import glob\n",
    "\n",
    "from tqdm import tqdm"
   ]
  },
  {
   "cell_type": "code",
   "outputs": [],
   "source": [
    "birth_2022 = pd.read_csv('data_by_state/births_2022.txt',sep='\\t')"
   ],
   "metadata": {
    "collapsed": false,
    "ExecuteTime": {
     "end_time": "2024-02-04T20:07:38.972690765Z",
     "start_time": "2024-02-04T20:07:38.971787514Z"
    }
   },
   "id": "a8b16f06775ca17a",
   "execution_count": 170
  },
  {
   "cell_type": "code",
   "outputs": [],
   "source": [
    "birth_2022 = birth_2022.drop(columns=['Notes',\"Year Code\",\"Mother\\'s Single Race Code\"])\n",
    "birth_2022 = birth_2022.drop(columns=['Gender'])\n",
    "birth_2022 = birth_2022.rename(columns={\"Gender Code\":\"Gender\",'Mother\\'s Single Race':\"Race\"})\n"
   ],
   "metadata": {
    "collapsed": false,
    "ExecuteTime": {
     "end_time": "2024-02-04T20:07:39.022693618Z",
     "start_time": "2024-02-04T20:07:38.974459164Z"
    }
   },
   "id": "9ca9887078d12fe",
   "execution_count": 171
  },
  {
   "cell_type": "code",
   "outputs": [],
   "source": [
    "birth_2022 = birth_2022.query('State!=\"District of Columbia\"')\n",
    "def get_state_abbr(state):\n",
    "    res = us.states.lookup(state)\n",
    "    if res is None:\n",
    "        return state\n",
    "    return res.abbr\n",
    "birth_2022['State'] = birth_2022['State'].apply(get_state_abbr)"
   ],
   "metadata": {
    "collapsed": false,
    "ExecuteTime": {
     "end_time": "2024-02-04T20:07:39.022952779Z",
     "start_time": "2024-02-04T20:07:39.022583970Z"
    }
   },
   "id": "91f81e2091dea234",
   "execution_count": 172
  },
  {
   "cell_type": "code",
   "outputs": [],
   "source": [
    "names_files = glob.glob('data_by_state/names_by_state/*.TXT',recursive=True)\n",
    "names_2022 = pd.concat([pd.read_csv(f,header=None, names=['State',\"Gender\",\"Year\",\"Name\",\"Count\"]).query('Year==2022') for f in names_files])\n",
    "\n",
    "names_no_state = names_2022.query('State==\"\"')\n"
   ],
   "metadata": {
    "collapsed": false,
    "ExecuteTime": {
     "end_time": "2024-02-04T20:07:40.128626350Z",
     "start_time": "2024-02-04T20:07:39.022723013Z"
    }
   },
   "id": "682404cecc155210",
   "execution_count": 173
  },
  {
   "cell_type": "code",
   "outputs": [
    {
     "name": "stderr",
     "output_type": "stream",
     "text": [
      "100%|██████████| 102/102 [00:00<00:00, 140.52it/s]\n"
     ]
    }
   ],
   "source": [
    "# fill in names with 0\n",
    "all_names = names_2022['Name'].unique()\n",
    "all_states = names_2022['State'].unique()\n",
    "\n",
    "new_rows = []\n",
    "\n",
    "with tqdm(total=len(all_states)*2) as pbar:\n",
    "    for state in all_states:\n",
    "        for gender in ['M','F']:\n",
    "            subdf = names_2022[(names_2022.Gender==gender) & (names_2022.State==state)]\n",
    "            missing_names = list(set(all_names) - set(subdf['Name']))\n",
    "            for name in missing_names:\n",
    "                new_rows.append({'State':state,\"Gender\":gender,\"Year\":2022,\"Name\":name,\"Count\":0})   \n",
    "\n",
    "            pbar.update(1)\n",
    "\n",
    "names_2022 = pd.concat([names_2022,pd.DataFrame(new_rows)])\n",
    "\n"
   ],
   "metadata": {
    "collapsed": false,
    "ExecuteTime": {
     "end_time": "2024-02-04T20:07:41.179209041Z",
     "start_time": "2024-02-04T20:07:40.135916558Z"
    }
   },
   "id": "2bbc3977c3bd52ed",
   "execution_count": 174
  },
  {
   "cell_type": "code",
   "outputs": [],
   "source": [
    "master_df = birth_2022.merge(names_2022,on=['State','Year','Gender'])\n",
    "master_df.to_csv('names_and_births_2022.csv',index=False)"
   ],
   "metadata": {
    "collapsed": false,
    "ExecuteTime": {
     "end_time": "2024-02-04T20:07:47.772641745Z",
     "start_time": "2024-02-04T20:07:41.180526216Z"
    }
   },
   "id": "c48ce22e9a862d44",
   "execution_count": 175
  }
 ],
 "metadata": {
  "kernelspec": {
   "display_name": "Python 3",
   "language": "python",
   "name": "python3"
  },
  "language_info": {
   "codemirror_mode": {
    "name": "ipython",
    "version": 2
   },
   "file_extension": ".py",
   "mimetype": "text/x-python",
   "name": "python",
   "nbconvert_exporter": "python",
   "pygments_lexer": "ipython2",
   "version": "2.7.6"
  }
 },
 "nbformat": 4,
 "nbformat_minor": 5
}
